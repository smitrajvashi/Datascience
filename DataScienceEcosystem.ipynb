{
 "cells": [
  {
   "cell_type": "markdown",
   "id": "d9f4e175-38d0-4228-a96a-f85f3cbf3654",
   "metadata": {},
   "source": [
    "<h1>Data Science Tools and Ecosystem</h1>"
   ]
  },
  {
   "cell_type": "markdown",
   "id": "1cba651c-540a-4a72-a1d4-a9e2b3069c6e",
   "metadata": {},
   "source": [
    "In this notebook, Data Science Tools and Ecosystem are summarized."
   ]
  },
  {
   "cell_type": "markdown",
   "id": "c0e7febf-f0f0-450d-9d53-0b98e6b63a97",
   "metadata": {},
   "source": [
    "Some of the popular languages that Data Scientists use are:"
   ]
  },
  {
   "cell_type": "markdown",
   "id": "1af3de10-c751-41c4-871a-c19f990e34f2",
   "metadata": {},
   "source": [
    "<ol>\n",
    " <li>Python</li>\n",
    " <li>R</li>\n",
    " <li>Scala</li>\n",
    "</ol>"
   ]
  },
  {
   "cell_type": "markdown",
   "id": "43f4738d-6bcf-42d2-9bb3-7e5c3acaf815",
   "metadata": {},
   "source": [
    "Some of the commonly used libraries used by Data Scientists include:"
   ]
  },
  {
   "cell_type": "markdown",
   "id": "b26ce463-cdc8-403f-9810-56cad79705b4",
   "metadata": {},
   "source": [
    "<ol>\n",
    "<li>Pandas</li>\n",
    "<li>matplotlib</li>\n",
    "<li>Seaborn</li>\n",
    "\n",
    "</ol>"
   ]
  },
  {
   "attachments": {},
   "cell_type": "markdown",
   "id": "a4d62dc1-c04f-4370-a0ea-2c4b02f1039c",
   "metadata": {},
   "source": [
    "Data Sciene Tools"
   ]
  },
  {
   "cell_type": "markdown",
   "id": "605c3727-51f8-47a3-94b2-603a88d2a86d",
   "metadata": {},
   "source": [
    "<ol>\n",
    "    <li>Jupyter notebook</li>\n",
    "    <li>tensorflow</li>\n",
    "    <li>Tableau</li>\n",
    "</ol>"
   ]
  },
  {
   "cell_type": "markdown",
   "id": "8e6e9a33-bcba-4a5e-a84b-9fc482d3dc68",
   "metadata": {},
   "source": [
    "<h3>Below are a few examples of evaluating arithmetic expressions in Python</h3>"
   ]
  },
  {
   "cell_type": "code",
   "execution_count": 6,
   "id": "0685fe5a-f7ca-40c0-87ef-fee1c75fd94f",
   "metadata": {},
   "outputs": [
    {
     "data": {
      "text/plain": [
       "17"
      ]
     },
     "execution_count": 6,
     "metadata": {},
     "output_type": "execute_result"
    }
   ],
   "source": [
    "#This a simple arithmetic expression to mutiply then add integers\n",
    "(3*4)+5"
   ]
  },
  {
   "cell_type": "code",
   "execution_count": 7,
   "id": "2e1ea628-92cd-4cbc-84bb-750dbb3f8d94",
   "metadata": {},
   "outputs": [
    {
     "name": "stdout",
     "output_type": "stream",
     "text": [
      "3.3333333333333335\n"
     ]
    }
   ],
   "source": [
    "#this will convert 200 minutes to hours by diving by 60\n",
    "minutes = 200\n",
    "hours = minutes/60\n",
    "print(hours)"
   ]
  },
  {
   "cell_type": "markdown",
   "id": "5f048a50-8971-46f4-ac6f-b416ffc18322",
   "metadata": {},
   "source": [
    "<b>Objectives: "
   ]
  },
  {
   "cell_type": "markdown",
   "id": "22f4ed9e-dfc5-49f7-b52e-58d35b17a38f",
   "metadata": {},
   "source": [
    "<ul>\n",
    "    <li>Python</li>\n",
    "    <li>R Programming</li>\n",
    "    <li>Julia</li>\n",
    "</ul>"
   ]
  },
  {
   "cell_type": "markdown",
   "id": "e0cdc719-c7a9-4718-a175-e414b0699ae9",
   "metadata": {},
   "source": [
    "<h2>Author</h2>\n",
    "Meet V."
   ]
  },
  {
   "cell_type": "code",
   "execution_count": null,
   "id": "ac0773d8-05f8-40e3-8acc-f055cb9600aa",
   "metadata": {},
   "outputs": [],
   "source": []
  }
 ],
 "metadata": {
  "kernelspec": {
   "display_name": "Python 3 (ipykernel)",
   "language": "python",
   "name": "python3"
  },
  "language_info": {
   "codemirror_mode": {
    "name": "ipython",
    "version": 3
   },
   "file_extension": ".py",
   "mimetype": "text/x-python",
   "name": "python",
   "nbconvert_exporter": "python",
   "pygments_lexer": "ipython3",
   "version": "3.11.9"
  }
 },
 "nbformat": 4,
 "nbformat_minor": 5
}
